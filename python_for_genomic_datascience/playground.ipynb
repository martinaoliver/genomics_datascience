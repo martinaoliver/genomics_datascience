{
 "cells": [
  {
   "cell_type": "code",
   "execution_count": 29,
   "metadata": {},
   "outputs": [],
   "source": [
    "import Bio\n",
    "Bio.__version__\n",
    "from Bio.Seq import Seq \n"
   ]
  },
  {
   "cell_type": "code",
   "execution_count": 39,
   "metadata": {},
   "outputs": [
    {
     "data": {
      "text/plain": [
       "<Bio.Blast.NCBIXML.Blast at 0x11fb98b30>"
      ]
     },
     "execution_count": 39,
     "metadata": {},
     "output_type": "execute_result"
    }
   ],
   "source": [
    "sequence = 'TGGGCCTCATATTTATCCTATATACCATGTTCGTATGGTGGCGCGATGTTCTACGTGAATCCACGTTCGAAGGACATCATACCAAAGTCGTACAATTAGGACCTCGATATGGTTTTATTCTGTTTATCGTATCGGAGGTTATGTTCTTTTTTGCTCTTTTTCGGGCTTCTTCTCATTCTTCTTTGGCACCTACGGTAGAG'\n",
    "result_handle= Bio.Blast.NCBIWWW.qblast('blastn','nt',sequence)\n",
    "blast_record = Bio.Blast.NCBIXML.read(result_handle)\n",
    "blast_record"
   ]
  },
  {
   "cell_type": "code",
   "execution_count": 44,
   "metadata": {},
   "outputs": [
    {
     "name": "stdout",
     "output_type": "stream",
     "text": [
      "gi|1783584753|gb|MN651324.1| Nicotiana tabacum strain zhongyan90 cytoplasmic male sterility(CMS) line cultivar MSzhongyan90 mitochondrion, complete genome\n",
      "           Length = 530869\n",
      "\n",
      "gi|1783584659|gb|MN651323.1| Nicotiana tabacum strain zhongyan90 maintainer line cultivar zhongyan90 mitochondrion, complete genome\n",
      "           Length = 472218\n",
      "\n",
      "gi|1783584536|gb|MN651322.1| Nicotiana tabacum strain yunyan85 cytoplasmic male sterility(CMS) line cultivar MSyunyan85 mitochondrion, complete genome\n",
      "           Length = 468288\n",
      "\n",
      "gi|1783584454|gb|MN651321.1| Nicotiana tabacum cultivar Yunyan85 mitochondrion, complete genome\n",
      "           Length = 430974\n",
      "\n",
      "gi|1741436215|gb|MH168703.1| Nicotiana tabacum/Hyoscyamus niger cybrid isolate rcMv-1-1g_c2 mitochondrion, complete sequence\n",
      "           Length = 266490\n",
      "\n",
      "gi|2753197580|gb|PP971602.1| Mandragora caulescens mitochondrion, complete genome\n",
      "           Length = 449524\n",
      "\n",
      "gi|1314948859|ref|NC_036467.1| Nicotiana attenuata mitochondrion, complete genome >gi|1241191387|gb|MF579563.1| Nicotiana attenuata mitochondrion, complete genome\n",
      "           Length = 394341\n",
      "\n",
      "gi|2692949561|ref|NC_086721.1| Nicotiana longiflora mitochondrion, complete genome >gi|2654353224|gb|PP135468.1| Nicotiana longiflora mitochondrion, complete genome\n",
      "           Length = 348585\n",
      "\n",
      "gi|2324144817|gb|OK109658.1| Nicotiana tabacum mitochondrion, complete genome\n",
      "           Length = 476083\n",
      "\n",
      "gi|2324144687|gb|OK109657.1| Nicotiana tabacum mitochondrion, complete genome\n",
      "           Length = 494317\n",
      "\n",
      "gi|2566845550|gb|OR187867.1| Solanum aethiopicum cultivar Aculeatum CGN23319 mitochondrion, complete genome\n",
      "           Length = 537472\n",
      "\n",
      "gi|2566845327|gb|OR187866.1| Solanum melongena cultivar CMS line EP28A mitochondrion, complete genome\n",
      "           Length = 594450\n",
      "\n",
      "gi|2566845128|gb|OR187865.1| Solanum melongena cultivar EP28 mitochondrion, complete genome\n",
      "           Length = 506765\n",
      "\n",
      "gi|1016470551|ref|NC_029805.1| Nicotiana sylvestris cultivar TW 137 mitochondrion, complete genome >gi|1008910429|gb|KT997964.1| Nicotiana sylvestris cultivar TW 137 mitochondrion, complete genome\n",
      "           Length = 430597\n",
      "\n",
      "gi|927029471|gb|KR780036.1| Nicotiana tabacum cultivar zhongyan 100 mitochondrion, complete genome\n",
      "           Length = 430863\n",
      "\n",
      "gi|916446276|gb|KT179379.1| Evolvulus nuttallianus voucher Aust 160 cytochrome c oxidase subunit 3 (coxIII) gene, complete cds; mitochondrial\n",
      "           Length = 798\n",
      "\n",
      "gi|756762107|gb|KM207679.1| Nicotiana tabacum/Hyoscyamus niger cybrid clone contig2 mitochondrion, complete sequence\n",
      "           Length = 248768\n",
      "\n",
      "gi|698585445|ref|XM_009780350.1| PREDICTED: Nicotiana sylvestris cytochrome c oxidase subunit 3 (LOC104227970), mRNA\n",
      "           Length = 1334\n",
      "\n",
      "gi|2183119123|gb|MZ240729.1| Evolvulus alsinoides voucher FJ05952020121606 mitochondrion, complete genome\n",
      "           Length = 498026\n",
      "\n",
      "gi|1883212036|gb|MT122988.1| Solanum aethiopicum isolate NN3 mitochondrion, complete genome\n",
      "           Length = 551339\n",
      "\n",
      "gi|1883211983|gb|MT122986.1| Solanum melongena isolate NN5 chromosome 1 mitochondrion, complete sequence\n",
      "           Length = 363658\n",
      "\n",
      "gi|1883211930|gb|MT122984.1| Solanum melongena isolate NN10 chromosome 1 mitochondrion, complete sequence\n",
      "           Length = 363632\n",
      "\n",
      "gi|1883211881|gb|MT122982.1| Solanum anguivi isolate NN13 chromosome 1, complete genome\n",
      "           Length = 245759\n",
      "\n",
      "gi|1883211832|gb|MT122980.1| Solanum anguivi isolate NN14 chromosome 1, complete genome\n",
      "           Length = 245426\n",
      "\n",
      "gi|1883211730|gb|MT122977.1| Solanum aethiopicum isolate NN1 mitochondrion, complete genome\n",
      "           Length = 566477\n",
      "\n",
      "gi|1883211677|gb|MT122975.1| Solanum melongena isolate NN18 chromosome 1 mitochondrion, complete sequence\n",
      "           Length = 363654\n",
      "\n",
      "gi|1883211652|gb|MT122974.1| Solanum aethiopicum isolate NN2 chromosome 2, complete genome\n",
      "           Length = 244006\n",
      "\n",
      "gi|1883211572|gb|MT122970.1| Solanum macrocarpon isolate NN6 chromosome 1, complete genome\n",
      "           Length = 481443\n",
      "\n",
      "gi|1883211523|gb|MT122969.1| Solanum aethiopicum isolate NN17 mitochondrion, complete genome\n",
      "           Length = 566665\n",
      "\n",
      "gi|1883211471|gb|MT122967.1| Solanum melongena isolate NN7 chromosome 1 mitochondrion, complete sequence\n",
      "           Length = 369496\n",
      "\n",
      "gi|1904806381|ref|NC_050335.1| Solanum aethiopicum isolate NN4 mitochondrion, complete genome >gi|1883211427|gb|MT122966.1| Solanum aethiopicum isolate NN4 mitochondrion, complete genome\n",
      "           Length = 566695\n",
      "\n",
      "gi|1883211333|gb|MT122963.1| Solanum melongena isolate NN19 mitochondrion, complete genome\n",
      "           Length = 482344\n",
      "\n",
      "gi|1904806331|ref|NC_050334.1| Solanum melongena isolate NN20 mitochondrion, complete genome >gi|1883211284|gb|MT122962.1| Solanum melongena isolate NN20 mitochondrion, complete genome\n",
      "           Length = 482343\n",
      "\n",
      "gi|1883211235|gb|MT122960.1| Solanum melongena isolate NN8 chromosome 1 mitochondrion, complete sequence\n",
      "           Length = 369512\n",
      "\n",
      "gi|1883211137|gb|MT122956.1| Solanum melongena isolate NN11 chromosome 1 mitochondrion, complete sequence\n",
      "           Length = 369476\n",
      "\n",
      "gi|1883211112|gb|MT122955.1| Solanum aethiopicum isolate NN16 chromosome 2, complete genome\n",
      "           Length = 254845\n",
      "\n",
      "gi|57013877|ref|NC_006581.1| Nicotiana tabacum mitochondrion, complete genome >gi|56806513|dbj|BA000042.1| Nicotiana tabacum mitochondrial DNA, complete genome\n",
      "           Length = 430597\n",
      "\n",
      "gi|2795785283|emb|OZ176048.1| Solanum nigrum genome assembly, organelle: mitochondrion\n",
      "           Length = 464267\n",
      "\n",
      "gi|2795785275|emb|OZ176040.1| Solanum nigrum genome assembly, chromosome: 29\n",
      "           Length = 74744481\n",
      "\n",
      "gi|2795785260|emb|OZ176029.1| Solanum nigrum genome assembly, chromosome: 18\n",
      "           Length = 84368394\n",
      "\n",
      "gi|2795782092|emb|OZ174194.1| Calystegia soldanella genome assembly, organelle: mitochondrion\n",
      "           Length = 279181\n",
      "\n",
      "gi|2795782090|emb|OZ174192.1| Calystegia soldanella genome assembly, chromosome: 10\n",
      "           Length = 39693730\n",
      "\n",
      "gi|2772236967|emb|OZ120392.1| Convolvulus arvensis genome assembly, organelle: mitochondrion\n",
      "           Length = 306741\n",
      "\n",
      "gi|2709198825|gb|PP091929.1| Solanum lycopersicum isolate MT mitochondrion, complete genome\n",
      "           Length = 573803\n",
      "\n",
      "gi|2709198683|gb|PP091927.1| Solanum lycopersicum isolate M82 mitochondrion, complete genome\n",
      "           Length = 576695\n",
      "\n",
      "gi|2735238808|gb|PP826245.1| Solanum chacoense isolate SC3-12 chromosome 1 mitochondrion, complete sequence\n",
      "           Length = 232060\n",
      "\n",
      "gi|2735238630|gb|PP826183.1| Solanum mochiquense isolate SM1-3 chromosome 1 mitochondrion, complete sequence\n",
      "           Length = 473702\n",
      "\n",
      "gi|2716180622|gb|PP639551.1| Physochlaina infundibularis chromosome 2 mitochondrion, complete sequence\n",
      "           Length = 235398\n",
      "\n",
      "gi|2656636248|gb|ON009140.1| Solanum commersonii x Solanum tuberosum isolate SH9B chromosome 2 mitochondrion, complete sequence\n",
      "           Length = 111810\n",
      "\n",
      "gi|2654356256|gb|ON682438.1| Solanum commersonii x Solanum tuberosum isolate SH9A chromosome 2 mitochondrion, complete sequence\n",
      "           Length = 109928\n",
      "\n"
     ]
    }
   ],
   "source": [
    "for alignment in blast_record.alignments:\n",
    "    print(alignment)"
   ]
  },
  {
   "cell_type": "code",
   "execution_count": 41,
   "metadata": {},
   "outputs": [
    {
     "name": "stderr",
     "output_type": "stream",
     "text": [
      "/Users/mo2016/Documents/other_projects/coursera/genomics_datascience/bioinformatics_venv/lib/python3.12/site-packages/Bio/Seq.py:2879: BiopythonWarning: Partial codon, len(sequence) not a multiple of three. Explicitly trim the sequence or add trailing N before translation. This may become an error in future.\n",
      "  warnings.warn(\n"
     ]
    },
    {
     "data": {
      "text/plain": [
       "Seq('WASYLSYIPCSYGGAMFYVNPRSKDIIPKSYN*DLDMVLFCLSYRRLCSFLLFF...LR*')"
      ]
     },
     "execution_count": 41,
     "metadata": {},
     "output_type": "execute_result"
    }
   ],
   "source": [
    "myseq = Seq(\"TGGGCCTCATATTTATCCTATATACCATGTTCGTATGGTGGCGCGATGTTCTACGTGAATCCACGTTCGAAGGACATCATACCAAAGTCGTACAATTAGGACCTCGATATGGTTTTATTCTGTTTATCGTATCGGAGGTTATGTTCTTTTTTGCTCTTTTTCGGGCTTCTTCTCATTCTTCTTTGGCACCTACGGTAGAG\")\n",
    "myseq.translate()"
   ]
  }
 ],
 "metadata": {
  "kernelspec": {
   "display_name": "bioinformatics_venv",
   "language": "python",
   "name": "python3"
  },
  "language_info": {
   "codemirror_mode": {
    "name": "ipython",
    "version": 3
   },
   "file_extension": ".py",
   "mimetype": "text/x-python",
   "name": "python",
   "nbconvert_exporter": "python",
   "pygments_lexer": "ipython3",
   "version": "3.12.6"
  }
 },
 "nbformat": 4,
 "nbformat_minor": 2
}
